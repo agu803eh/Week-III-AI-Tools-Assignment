{
  "nbformat": 4,
  "nbformat_minor": 0,
  "metadata": {
    "colab": {
      "provenance": []
    },
    "kernelspec": {
      "name": "python3",
      "display_name": "Python 3"
    },
    "language_info": {
      "name": "python"
    }
  },
  "cells": [
    {
      "cell_type": "code",
      "execution_count": 5,
      "metadata": {
        "colab": {
          "base_uri": "https://localhost:8080/",
          "height": 663
        },
        "id": "m_ptovLGrcLl",
        "outputId": "55676a48-5ec8-4419-c1ea-77b249dfe411"
      },
      "outputs": [
        {
          "output_type": "stream",
          "name": "stdout",
          "text": [
            "Named Entities: [('13', 'CARDINAL')]\n"
          ]
        },
        {
          "output_type": "display_data",
          "data": {
            "text/plain": [
              "<IPython.core.display.HTML object>"
            ],
            "text/html": [
              "<span class=\"tex2jax_ignore\"><div class=\"entities\" style=\"line-height: 2.5; direction: ltr\">I love the new iPhone \n",
              "<mark class=\"entity\" style=\"background: #e4e7d2; padding: 0.45em 0.6em; margin: 0 0.25em; line-height: 1; border-radius: 0.35em;\">\n",
              "    13\n",
              "    <span style=\"font-size: 0.8em; font-weight: bold; line-height: 1; border-radius: 0.35em; vertical-align: middle; margin-left: 0.5rem\">CARDINAL</span>\n",
              "</mark>\n",
              "! The camera is amazing.</div></span>"
            ]
          },
          "metadata": {}
        },
        {
          "output_type": "stream",
          "name": "stdout",
          "text": [
            "Sentiment: positive\n",
            "Named Entities: [('The Samsung Galaxy S21', 'ORG')]\n"
          ]
        },
        {
          "output_type": "display_data",
          "data": {
            "text/plain": [
              "<IPython.core.display.HTML object>"
            ],
            "text/html": [
              "<span class=\"tex2jax_ignore\"><div class=\"entities\" style=\"line-height: 2.5; direction: ltr\">\n",
              "<mark class=\"entity\" style=\"background: #7aecec; padding: 0.45em 0.6em; margin: 0 0.25em; line-height: 1; border-radius: 0.35em;\">\n",
              "    The Samsung Galaxy S21\n",
              "    <span style=\"font-size: 0.8em; font-weight: bold; line-height: 1; border-radius: 0.35em; vertical-align: middle; margin-left: 0.5rem\">ORG</span>\n",
              "</mark>\n",
              " has a great display but poor battery life.</div></span>"
            ]
          },
          "metadata": {}
        },
        {
          "output_type": "stream",
          "name": "stdout",
          "text": [
            "Sentiment: positive\n",
            "Named Entities: [('Adidas', 'PERSON')]\n"
          ]
        },
        {
          "output_type": "display_data",
          "data": {
            "text/plain": [
              "<IPython.core.display.HTML object>"
            ],
            "text/html": [
              "<span class=\"tex2jax_ignore\"><div class=\"entities\" style=\"line-height: 2.5; direction: ltr\">Just bought a pair of \n",
              "<mark class=\"entity\" style=\"background: #aa9cfc; padding: 0.45em 0.6em; margin: 0 0.25em; line-height: 1; border-radius: 0.35em;\">\n",
              "    Adidas\n",
              "    <span style=\"font-size: 0.8em; font-weight: bold; line-height: 1; border-radius: 0.35em; vertical-align: middle; margin-left: 0.5rem\">PERSON</span>\n",
              "</mark>\n",
              " running shoes. They are very comfortable.</div></span>"
            ]
          },
          "metadata": {}
        },
        {
          "output_type": "stream",
          "name": "stdout",
          "text": [
            "Sentiment: positive\n",
            "Named Entities: [('Sony', 'ORG')]\n"
          ]
        },
        {
          "output_type": "display_data",
          "data": {
            "text/plain": [
              "<IPython.core.display.HTML object>"
            ],
            "text/html": [
              "<span class=\"tex2jax_ignore\"><div class=\"entities\" style=\"line-height: 2.5; direction: ltr\">The quality of this \n",
              "<mark class=\"entity\" style=\"background: #7aecec; padding: 0.45em 0.6em; margin: 0 0.25em; line-height: 1; border-radius: 0.35em;\">\n",
              "    Sony\n",
              "    <span style=\"font-size: 0.8em; font-weight: bold; line-height: 1; border-radius: 0.35em; vertical-align: middle; margin-left: 0.5rem\">ORG</span>\n",
              "</mark>\n",
              " headphones is outstanding.</div></span>"
            ]
          },
          "metadata": {}
        },
        {
          "output_type": "stream",
          "name": "stdout",
          "text": [
            "Sentiment: negative\n",
            "Named Entities: [('6', 'CARDINAL')]\n"
          ]
        },
        {
          "output_type": "display_data",
          "data": {
            "text/plain": [
              "<IPython.core.display.HTML object>"
            ],
            "text/html": [
              "<span class=\"tex2jax_ignore\"><div class=\"entities\" style=\"line-height: 2.5; direction: ltr\">I didn't like the design of the Google Pixel \n",
              "<mark class=\"entity\" style=\"background: #e4e7d2; padding: 0.45em 0.6em; margin: 0 0.25em; line-height: 1; border-radius: 0.35em;\">\n",
              "    6\n",
              "    <span style=\"font-size: 0.8em; font-weight: bold; line-height: 1; border-radius: 0.35em; vertical-align: middle; margin-left: 0.5rem\">CARDINAL</span>\n",
              "</mark>\n",
              ".</div></span>"
            ]
          },
          "metadata": {}
        },
        {
          "output_type": "stream",
          "name": "stdout",
          "text": [
            "Sentiment: negative\n",
            "Processed Data: [{'text': 'I love the new iPhone 13! The camera is amazing.', 'entities': [['13', 'CARDINAL']], 'sentiment': 'positive'}, {'text': 'The Samsung Galaxy S21 has a great display but poor battery life.', 'entities': [['The Samsung Galaxy S21', 'ORG']], 'sentiment': 'positive'}, {'text': 'Just bought a pair of Adidas running shoes. They are very comfortable.', 'entities': [['Adidas', 'PERSON']], 'sentiment': 'positive'}, {'text': 'The quality of this Sony headphones is outstanding.', 'entities': [['Sony', 'ORG']], 'sentiment': 'negative'}, {'text': \"I didn't like the design of the Google Pixel 6.\", 'entities': [['6', 'CARDINAL']], 'sentiment': 'negative'}]\n",
            "Text: I love the new iPhone 13! The camera is amazing.\n",
            "Named Entities: [['13', 'CARDINAL']]\n",
            "Sentiment: positive\n",
            "Text: The Samsung Galaxy S21 has a great display but poor battery life.\n",
            "Named Entities: [['The Samsung Galaxy S21', 'ORG']]\n",
            "Sentiment: positive\n",
            "Text: Just bought a pair of Adidas running shoes. They are very comfortable.\n",
            "Named Entities: [['Adidas', 'PERSON']]\n",
            "Sentiment: positive\n",
            "Text: The quality of this Sony headphones is outstanding.\n",
            "Named Entities: [['Sony', 'ORG']]\n",
            "Sentiment: negative\n",
            "Text: I didn't like the design of the Google Pixel 6.\n",
            "Named Entities: [['6', 'CARDINAL']]\n",
            "Sentiment: negative\n"
          ]
        }
      ],
      "source": [
        "# Task 3: NLP with spaCy\n",
        "# Text Data: User reviews from Amazon Product Reviews.\n",
        "# Goal:Perform named entity recognition (NER) to extract product names and brands.Analyze sentiment (positive/negative) using a rule-based approach.\n",
        "# Deliverable: Code snippet and output showing extracted entities and sentiment\n",
        "# Import necessary libraries\n",
        "import spacy\n",
        "from spacy import displacy\n",
        "# Load the English NLP model\n",
        "nlp = spacy.load(\"en_core_web_sm\")\n",
        "# Sample text data (Amazon product reviews)\n",
        "text_data = [\n",
        "    \"I love the new iPhone 13! The camera is amazing.\",\n",
        "    \"The Samsung Galaxy S21 has a great display but poor battery life.\",\n",
        "    \"Just bought a pair of Adidas running shoes. They are very comfortable.\",\n",
        "    \"The quality of this Sony headphones is outstanding.\",\n",
        "    \"I didn't like the design of the Google Pixel 6.\"\n",
        "]\n",
        "# Process the text data\n",
        "processed_data_list = [] # Create a list to store the processed data for JSON serialization\n",
        "for text in text_data:\n",
        "    doc = nlp(text)\n",
        "    # Extract named entities\n",
        "    entities = [(ent.text, ent.label_) for ent in doc.ents]\n",
        "    print(\"Named Entities:\", entities)\n",
        "    # Visualize the entities\n",
        "    displacy.render(doc, style=\"ent\")\n",
        "    # Analyze sentiment (simple rule-based approach)\n",
        "    sentiment = \"positive\" if \"love\" in text or \"great\" in text or \"comfortable\" in text else \"negative\"\n",
        "    print(\"Sentiment:\", sentiment)\n",
        "    # Append the processed data to the list\n",
        "    processed_data_list.append({\"text\": text, \"entities\": entities, \"sentiment\": sentiment})\n",
        "\n",
        "# Note: The sentiment analysis here is very basic and can be improved with more sophisticated methods.\n",
        "# Save the processed text data for further analysis\n",
        "import json\n",
        "with open('processed_reviews.json', 'w') as f:\n",
        "    # Dump the list of dictionaries which now contains serializable data\n",
        "    json.dump(processed_data_list, f, indent=4) # Added indent for better readability\n",
        "\n",
        "# Load the processed data\n",
        "with open('processed_reviews.json', 'r') as f:\n",
        "    processed_data = json.load(f)\n",
        "print(\"Processed Data:\", processed_data)\n",
        "# Display the processed data\n",
        "for item in processed_data:\n",
        "    print(f\"Text: {item['text']}\")\n",
        "    # Entities are now loaded as lists of tuples\n",
        "    print(f\"Named Entities: {item['entities']}\")\n",
        "    print(f\"Sentiment: {item['sentiment']}\")\n",
        "# Clean up the generated file\n",
        "import os\n",
        "if os.path.exists(\"processed_reviews.json\"):\n",
        "    os.remove(\"processed_reviews.json\")\n",
        "# End of the script"
      ]
    }
  ]
}